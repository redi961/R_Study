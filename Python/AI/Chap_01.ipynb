{
 "cells": [
  {
   "cell_type": "code",
   "execution_count": 9,
   "metadata": {},
   "outputs": [
    {
     "data": {
      "text/plain": [
       "\"What's your name?\""
      ]
     },
     "execution_count": 9,
     "metadata": {},
     "output_type": "execute_result"
    }
   ],
   "source": [
    "x = \"What's your name?\";\n",
    "x"
   ]
  },
  {
   "cell_type": "code",
   "execution_count": 10,
   "metadata": {},
   "outputs": [
    {
     "name": "stdout",
     "output_type": "stream",
     "text": [
      " This is the first line.\n",
      "Thist is the second line.\n",
      "\"what's your name?,\" I asked\n",
      "He said \"Bond, James Bond\" \n"
     ]
    }
   ],
   "source": [
    "# 따옴표를 연속으로 3개 ''' ''' 식으로 사용할시 멀티라인으로 스트링을 작성할수 있음\n",
    "x =  ''' This is the first line.\n",
    "Thist is the second line.\n",
    "\"what's your name?,\" I asked\n",
    "He said \"Bond, James Bond\" '''\n",
    "x\n",
    "print(x)"
   ]
  },
  {
   "cell_type": "code",
   "execution_count": 4,
   "metadata": {},
   "outputs": [
    {
     "data": {
      "text/plain": [
       "30"
      ]
     },
     "execution_count": 4,
     "metadata": {},
     "output_type": "execute_result"
    }
   ],
   "source": [
    "\"Good\" + \"Bye\"\n",
    "('a' + 'b') * 3\n",
    "\n",
    "## eval = 매개변수로 받은 expression (=식)을 문자열로 받아서, 실행하는 함수 // 문자열 수식 계산\n",
    "x = 5\n",
    "eval('23 + (2 * x)')\n",
    "\n",
    "# exec 문자열 수식 실행문\n",
    "exec('d = 30')\n",
    "d\n",
    "\n"
   ]
  },
  {
   "cell_type": "code",
   "execution_count": 50,
   "metadata": {},
   "outputs": [
    {
     "data": {
      "text/plain": [
       "'ab'"
      ]
     },
     "execution_count": 50,
     "metadata": {},
     "output_type": "execute_result"
    }
   ],
   "source": [
    "str(5)\n",
    "str(5.)\n",
    "\n",
    "str1 = \"Python\"\n",
    "str1.upper() # 대문자변환\n",
    "str1.lower() # 소문자변환\n",
    "str1.count('th')\n",
    "\n",
    "'coDE'.capitalize() # 문자열의 첫글자는 대문자로, 나머지는 소문자로\n",
    "'ben hUr'.title() # 각 문자열 첫글자만 대문자로\n",
    "'ab        '.rstrip()\n"
   ]
  },
  {
   "cell_type": "code",
   "execution_count": 55,
   "metadata": {},
   "outputs": [
    {
     "name": "stdout",
     "output_type": "stream",
     "text": [
      "Python\n",
      "n y yth\n",
      "6\n",
      "-1\n",
      "9\n"
     ]
    }
   ],
   "source": [
    "print('Python')\n",
    "print('Python'[-1], 'Python'[-5], 'Python'[-5:-2]) # 앞에 -가 붙은 인덱스는 뒤에서 부터 탐색함\n",
    "str1 = \"Hello world!\"\n",
    "print(str1.find('w')) # 인덱스 탐색\n",
    "print(str1.find('x')) # false\n",
    "print(str1.rfind('l'))"
   ]
  },
  {
   "cell_type": "code",
   "execution_count": 66,
   "metadata": {},
   "outputs": [
    {
     "name": "stdout",
     "output_type": "stream",
     "text": [
      "thon Pyth Python\n",
      "5*7\n",
      "HelloWorld\n",
      "1   two   3\n",
      "Hello  World\n"
     ]
    }
   ],
   "source": [
    "print('Python'[2:], 'Python'[:4], 'Python'[:])\n",
    "x = 5; y =7\n",
    "print(x, y, sep='*') # sep => 빈칸에 해당 문자열 삽임\n",
    "print(\"Hello\", \"World\", sep=\"\")\n",
    "print('1', 'two', 3 , sep ='   ')\n",
    "\n",
    "print(\"Hello\", end = \"  \")\n",
    "print(\"World\")"
   ]
  },
  {
   "cell_type": "markdown",
   "metadata": {},
   "source": []
  },
  {
   "cell_type": "code",
   "execution_count": 72,
   "metadata": {},
   "outputs": [
    {
     "name": "stdout",
     "output_type": "stream",
     "text": [
      " Swaroop was 20 years old when he wrote the book\n",
      "A Byte of Python.\n",
      "Why is Swaroop playing with that python?\n"
     ]
    }
   ],
   "source": [
    "age = 20\n",
    "name = \"Swaroop\"\n",
    "\n",
    "print (''' {0} was {1} years old when he wrote the book\n",
    "A Byte of Python.'''.format(name, age))\n",
    "print (\"Why is {} playing with that python?\".format(name))"
   ]
  },
  {
   "cell_type": "code",
   "execution_count": 11,
   "metadata": {},
   "outputs": [
    {
     "name": "stdout",
     "output_type": "stream",
     "text": [
      "0123456789012345678901234567\n",
      "Rank Player               HR\n",
      "  1  Harry Bonds         762\n",
      "  2  Hank                755\n",
      "  3  Babe                714\n"
     ]
    }
   ],
   "source": [
    "print(\"0123456789012345678901234567\")\n",
    "\n",
    "print(\"{0:^5}{1:<20}{2:>3}\".format(\"Rank\",\"Player\", \"HR\")) ## 영역배분\n",
    "print(\"{0:^5}{1:<20}{2:>3}\".format(1, \"Harry Bonds\", 762))\n",
    "print(\"{0:^5}{1:<20}{2:>3}\".format(2, \"Hank\", 755))\n",
    "print(\"{0:^5}{1:<20}{2:>3}\".format(3, \"Babe\", 714))"
   ]
  },
  {
   "cell_type": "code",
   "execution_count": 30,
   "metadata": {},
   "outputs": [
    {
     "name": "stdout",
     "output_type": "stream",
     "text": [
      "0.333\n",
      "___Hello___\n"
     ]
    }
   ],
   "source": [
    "print(\"{0:.3f}\".format(1.0/3))\n",
    "print(\"{0:_^11}\".format(\"Hello\")) # ^ 영역내 가운데정렬 / 앞에 붙은 문자열로 주변을 감쌈"
   ]
  },
  {
   "cell_type": "code",
   "execution_count": 27,
   "metadata": {},
   "outputs": [
    {
     "name": "stdout",
     "output_type": "stream",
     "text": [
      "what's your name?\n"
     ]
    }
   ],
   "source": [
    "print('what\\'s your name?') # \\를 입력함으로써 문자열을 그대로 표시되도록 설정이 가능함"
   ]
  },
  {
   "cell_type": "code",
   "execution_count": 32,
   "metadata": {},
   "outputs": [
    {
     "name": "stdout",
     "output_type": "stream",
     "text": [
      "New Lines are indicated by \n",
      "\n",
      "New Line are indicated by \\n\n"
     ]
    }
   ],
   "source": [
    "print(\"New Lines are indicated by \\n\")\n",
    "print(r\"New Lines are indicated by \\n\") # r은 raw string으로서, 뒤에 나오는 문자열에서 \\가 이스케이프 문자로 해석되는 것을 방지"
   ]
  },
  {
   "cell_type": "code",
   "execution_count": 34,
   "metadata": {},
   "outputs": [
    {
     "name": "stdout",
     "output_type": "stream",
     "text": [
      "desk\n"
     ]
    }
   ],
   "source": [
    "name = input(\"What is your name? \")\n",
    "print(name)"
   ]
  },
  {
   "cell_type": "code",
   "execution_count": 39,
   "metadata": {},
   "outputs": [
    {
     "name": "stdout",
     "output_type": "stream",
     "text": [
      "25\n"
     ]
    }
   ],
   "source": [
    "prompt = \"What is the airspeed velocity of a swallow?\\n\"\n",
    "speed = int(input(prompt)) # 인트형으로 변환하지 않을시 문자열로 받음\n",
    "print(speed)"
   ]
  },
  {
   "cell_type": "code",
   "execution_count": 40,
   "metadata": {},
   "outputs": [
    {
     "name": "stdout",
     "output_type": "stream",
     "text": [
      "Lase name :  dededede\n",
      "First name(s): dede\n"
     ]
    }
   ],
   "source": [
    "fullName = input(\"Enter a full name : \")\n",
    "n = fullName.rfind(' ')\n",
    "print(\"Lase name : \",fullName[n+1:])\n",
    "print(\"First name(s):\", fullName[:n])"
   ]
  },
  {
   "cell_type": "code",
   "execution_count": 41,
   "metadata": {},
   "outputs": [
    {
     "data": {
      "text/plain": [
       "True"
      ]
     },
     "execution_count": 41,
     "metadata": {},
     "output_type": "execute_result"
    }
   ],
   "source": [
    "3 < 9 > 8"
   ]
  },
  {
   "cell_type": "code",
   "execution_count": 42,
   "metadata": {},
   "outputs": [
    {
     "name": "stdout",
     "output_type": "stream",
     "text": [
      "No, it is a little lower that that\n",
      "Done\n"
     ]
    }
   ],
   "source": [
    "number = 23\n",
    "guess = int(input('Enter as integer : '))\n",
    "\n",
    "if guess == number :\n",
    " print('Congratulations, you guessed it.')\n",
    " print('but you do not win any prizes!')\n",
    "\n",
    "else : \n",
    "  if guess < number :\n",
    "    print(\"No, it is a little higher than that\")\n",
    "  else :\n",
    "    print(\"No, it is a little lower that that\")\n",
    "\n",
    "print(\"Done\")\n"
   ]
  },
  {
   "cell_type": "code",
   "execution_count": 43,
   "metadata": {},
   "outputs": [
    {
     "name": "stdout",
     "output_type": "stream",
     "text": [
      "largest ::  50.\n"
     ]
    }
   ],
   "source": [
    "first = eval(input(\"Enter the first\"))\n",
    "second = eval(input(\"Enter the second\"))\n",
    "third = eval(input(\"Enter the third\"))\n",
    "\n",
    "largest = first\n",
    "if second > largest :\n",
    "  largest = second\n",
    "if third > largest :\n",
    "  largest = third\n",
    "\n",
    "print (\"largest :: \", str(largest) + \".\")"
   ]
  },
  {
   "cell_type": "code",
   "execution_count": 45,
   "metadata": {},
   "outputs": [
    {
     "name": "stdout",
     "output_type": "stream",
     "text": [
      "No, it is a little higher than that\n",
      "Congratulations, you guessed it.\n",
      "The loop is over\n"
     ]
    }
   ],
   "source": [
    "num = 30\n",
    "running = True\n",
    "\n",
    "## 지정 조건이 되었을때 런닝값이 false가 되며 이로 인해 while문이 종료된다\n",
    "while running :\n",
    "  guess = int(input(\"Enter an integer : \"))\n",
    "  if guess == num :\n",
    "    print(\"Congratulations, you guessed it.\")\n",
    "    running = False\n",
    "  elif guess < num :\n",
    "    print(\"No, it is a little higher than that\")\n",
    "  else :\n",
    "    print(\"No, it is a little lower that that\")\n",
    "else :\n",
    "  print(\"The loop is over\")"
   ]
  },
  {
   "cell_type": "code",
   "execution_count": 46,
   "metadata": {},
   "outputs": [
    {
     "name": "stdout",
     "output_type": "stream",
     "text": [
      "1\n",
      "2\n",
      "3\n",
      "4\n",
      "The for loop is over\n"
     ]
    }
   ],
   "source": [
    "#list(range(1,10))\n",
    "for i in range(1, 5) :\n",
    "  print (i)\n",
    "else : \n",
    "  print(\"The for loop is over\")"
   ]
  },
  {
   "cell_type": "code",
   "execution_count": 48,
   "metadata": {},
   "outputs": [
    {
     "name": "stdout",
     "output_type": "stream",
     "text": [
      "*\n",
      "**\n",
      "***\n",
      "****\n",
      "*****\n",
      "******\n",
      "*******\n",
      "********\n",
      "*********\n",
      "**********\n",
      "***********\n",
      "************\n",
      "*************\n",
      "**************\n",
      "***************\n"
     ]
    }
   ],
   "source": [
    "num = int(input(\"Enter a num from 1 to 20 :\"))\n",
    "\n",
    "for i in range(num) :\n",
    "  for j in range(i + 1) :\n",
    "    print(\"*\", end='')\n",
    "  print()"
   ]
  },
  {
   "cell_type": "code",
   "execution_count": 50,
   "metadata": {},
   "outputs": [
    {
     "name": "stdout",
     "output_type": "stream",
     "text": [
      "d\n",
      "e\n",
      "s\n",
      "k\n",
      "The reversed word is ksed.\n"
     ]
    }
   ],
   "source": [
    "word = input(\"Enter a word : \")\n",
    "reversedWord = ''\n",
    "\n",
    "for ch in word :\n",
    "  reversedWord = ch + reversedWord\n",
    "  print(ch)\n",
    "print(\"The reversed word is \" + reversedWord + \".\")\n"
   ]
  },
  {
   "cell_type": "code",
   "execution_count": 52,
   "metadata": {},
   "outputs": [
    {
     "name": "stdout",
     "output_type": "stream",
     "text": [
      "No president had the first name do.\n"
     ]
    }
   ],
   "source": [
    "firstName = input(\"Enter a first Name : \")\n",
    "foundFlag = False\n",
    "infile = open(\"USPresidents.txt\",\"r\",encoding=\"cp949\")\n",
    "for line in infile :\n",
    "  if line.startswith(firstName + ' ') :\n",
    "    print(line.rstrip())\n",
    "    foundFlag = True\n",
    "infile.close()\n",
    "if not foundFlag:\n",
    "  print(\"No president had the first name\", firstName + \".\")"
   ]
  },
  {
   "cell_type": "code",
   "execution_count": 54,
   "metadata": {},
   "outputs": [
    {
     "name": "stdout",
     "output_type": "stream",
     "text": [
      "Input is of sufficient length\n",
      "Input is of sufficient length\n",
      "Input is of sufficient length\n",
      "Too short\n"
     ]
    }
   ],
   "source": [
    "while True :\n",
    "  s = input (\"Enter Something : \")\n",
    "  if s == 'quit' :\n",
    "    break\n",
    "  if len(s) < 3:\n",
    "    print(\"Too short\")\n",
    "    continue\n",
    "  print(\"Input is of sufficient length\")"
   ]
  },
  {
   "cell_type": "code",
   "execution_count": 64,
   "metadata": {},
   "outputs": [
    {
     "name": "stdout",
     "output_type": "stream",
     "text": [
      "None\n"
     ]
    },
    {
     "data": {
      "text/plain": [
       "[1, 2, 3, 4, 5]"
      ]
     },
     "execution_count": 64,
     "metadata": {},
     "output_type": "execute_result"
    }
   ],
   "source": [
    "a = [3, 2, 4, 1]\n",
    "print(a.sort()) # 내림차순 a.sort(reverse=True)\n",
    "a\n",
    "a.append(5)\n",
    "a"
   ]
  },
  {
   "cell_type": "code",
   "execution_count": 73,
   "metadata": {},
   "outputs": [
    {
     "data": {
      "text/plain": [
       "['ni', 'spam']"
      ]
     },
     "execution_count": 73,
     "metadata": {},
     "output_type": "execute_result"
    }
   ],
   "source": [
    "team = ['seahawks],', 2014, 'Center']\n",
    "nums = [5, 10, 4, 9, 5]\n",
    "words = ['spam', 'ni']\n",
    "max(nums)\n",
    "nums.count(5)\n",
    "nums.remove(5) # 해당하는 조건의 첫 인덱스만 없앰\n",
    "del nums[1:3]\n",
    "nums\n",
    "\n",
    "words.reverse() # List의 인덱스를 뒤에서 부터\n",
    "words"
   ]
  },
  {
   "cell_type": "code",
   "execution_count": 75,
   "metadata": {},
   "outputs": [
    {
     "data": {
      "text/plain": [
       "['a', 'b', 'c']"
      ]
     },
     "execution_count": 75,
     "metadata": {},
     "output_type": "execute_result"
    }
   ],
   "source": [
    "'a,b,c'.split(',')\n",
    "'a**b**c'.split('**')\n"
   ]
  },
  {
   "cell_type": "code",
   "execution_count": 80,
   "metadata": {},
   "outputs": [
    {
     "name": "stdout",
     "output_type": "stream",
     "text": [
      "To be or not to be\n",
      "Snap, Crackle, pop\n"
     ]
    }
   ],
   "source": [
    "line = [\"To\", \"be\", \"or\", \"not\", \"to\", \"be\"]\n",
    "string = ' '.join(line)\n",
    "print(string)\n",
    "krispies = ['Snap','Crackle', 'pop']\n",
    "print(', '.join(krispies))"
   ]
  },
  {
   "cell_type": "code",
   "execution_count": 88,
   "metadata": {},
   "outputs": [
    {
     "data": {
      "text/plain": [
       "('a', 'b', 'c')"
      ]
     },
     "execution_count": 88,
     "metadata": {},
     "output_type": "execute_result"
    }
   ],
   "source": [
    "t = ('a', 'b', 'c')\n",
    "t = 'a','b','c'\n",
    "\n",
    "\n",
    "type(t)\n",
    "t"
   ]
  },
  {
   "cell_type": "code",
   "execution_count": 91,
   "metadata": {},
   "outputs": [
    {
     "name": "stdout",
     "output_type": "stream",
     "text": [
      "Number of animals in the zoo is 3\n"
     ]
    }
   ],
   "source": [
    "zoo = ('python', 'elephant', 'penguin')\n",
    "print('Number of animals in the zoo is', len(zoo))\n",
    "\n",
    "new_zoo = 'monkey', 'camel', zoo\n",
    "print('All animals in new zoo')"
   ]
  },
  {
   "cell_type": "code",
   "execution_count": 102,
   "metadata": {},
   "outputs": [
    {
     "data": {
      "text/plain": [
       "['P', 'y', 't', 'h', 'o', 'n']"
      ]
     },
     "execution_count": 102,
     "metadata": {},
     "output_type": "execute_result"
    }
   ],
   "source": [
    "list(('a','b'))\n",
    "list(\"Python\")\n",
    "\"Python\".split()\n",
    "\"P y t h o n\".split(' ') # 스플릿 내부 정보에 따라서 단어를 쪼갬\n",
    "\"P y t h o n\".split()"
   ]
  },
  {
   "cell_type": "code",
   "execution_count": 112,
   "metadata": {},
   "outputs": [
    {
     "name": "stdout",
     "output_type": "stream",
     "text": [
      "Simple Assigment\n",
      "shoplist is :  ['mango', 'carrot', 'banana']\n",
      "mylist is :  ['mango', 'carrot', 'banana']\n",
      "Copy by making a full slice\n",
      "shoplist is :  ['mango', 'carrot', 'banana']\n",
      "mylist is :  ['carrot', 'banana']\n"
     ]
    }
   ],
   "source": [
    "print(\"Simple Assigment\")\n",
    "shoplist = [\"apple\", \"mango\" , \"carrot\", \"banana\"]\n",
    "\n",
    "mylist = shoplist\n",
    "\n",
    "del mylist[0]\n",
    "mylist\n",
    "\n",
    "print(\"shoplist is : \",shoplist)\n",
    "print(\"mylist is : \",mylist)\n",
    "\n",
    "print(\"Copy by making a full slice\")\n",
    "mylist = shoplist[:]\n",
    "\n",
    "del mylist[0]\n",
    "print(\"shoplist is : \",shoplist)\n",
    "print(\"mylist is : \",mylist)"
   ]
  },
  {
   "cell_type": "code",
   "execution_count": 118,
   "metadata": {},
   "outputs": [
    {
     "data": {
      "text/plain": [
       "[1, 2, 3, 4]"
      ]
     },
     "execution_count": 118,
     "metadata": {},
     "output_type": "execute_result"
    }
   ],
   "source": [
    "x = [1,2,3,4]\n",
    "y = x # 주소값이 복사되어 x와 값이 연동됨\n",
    "z = x[:] # 슬라이싱된 시점의 데이터를 복사함\n",
    "x.append(5)\n",
    "\n"
   ]
  },
  {
   "cell_type": "code",
   "execution_count": 128,
   "metadata": {},
   "outputs": [
    {
     "name": "stdout",
     "output_type": "stream",
     "text": [
      "after ::  Bye World\n"
     ]
    }
   ],
   "source": [
    "word = input(\"Enter base Word : \")\n",
    "tWord = input(\"Enter word to Replace : \")\n",
    "reWord = input (\"Enter replacement Word : \")\n",
    "\n",
    "after = word.replace(tWord,reWord)\n",
    "\n",
    "print(\"input :: \",word)\n",
    "print(\"after :: \",after)"
   ]
  },
  {
   "cell_type": "code",
   "execution_count": null,
   "metadata": {},
   "outputs": [],
   "source": [
    "dollar = int(input(\"Enter Fiture Value : \"))\n",
    "rate = int(input(\"Enter interest rate (as %) : \"))\n",
    "years = int(input(\"Enter number of year \"))\n",
    "pValues = round((dollar / (1+rate/100)**years),2)\n",
    "\n",
    "\n",
    "print(format (pValues,','))\n",
    "print(type(pValues))"
   ]
  },
  {
   "cell_type": "code",
   "execution_count": 183,
   "metadata": {},
   "outputs": [
    {
     "name": "stdout",
     "output_type": "stream",
     "text": [
      "ipchay"
     ]
    }
   ],
   "source": [
    "word = input(\"Enter word to translate : \")\n",
    "vowel = \"a\", \"e\", \"i\" , \"o\" ,\"u\"\n",
    "done = False\n",
    "\n",
    "# 모음으로 시작되는 경우\n",
    "if word[0] in 'aeiou' : \n",
    "  print(word,end=\"way\")\n",
    "#자음으로 시작되는 경우\n",
    "else : \n",
    "  idx = 0\n",
    "  while True :\n",
    "    if len(word) == idx or word[idx] in 'aeiou' :\n",
    "      break\n",
    "    else :\n",
    "      idx += 1\n",
    "  g = word[:idx]\n",
    "  word = word[idx:] + g\n",
    "  print(word,end=\"ay\")\n",
    "\n",
    "      \n",
    "\n"
   ]
  },
  {
   "cell_type": "code",
   "execution_count": 190,
   "metadata": {},
   "outputs": [
    {
     "name": "stdout",
     "output_type": "stream",
     "text": [
      "Number of bouncies :  13\n",
      "Meters traveled :  44.82\n"
     ]
    }
   ],
   "source": [
    "r = eval(input(\"Enter coefficient of restitution : \"))\n",
    "h = eval(input(\"Enter cinitial height in meters : \"))\n",
    "\n",
    "# 처음 h에서 떨어졌을 때\n",
    "d = h\n",
    "count = 1\n",
    "\n",
    "h *= r\n",
    "while(h > 0.1) :\n",
    "  d += 2*h\n",
    "  count += 1\n",
    "  h *= r\n",
    "\n",
    "print(\"Number of bouncies : \",\"{}\".format(count))\n",
    "print(\"Meters traveled : \",\"{:.2f}\".format(d))"
   ]
  },
  {
   "cell_type": "code",
   "execution_count": 13,
   "metadata": {},
   "outputs": [
    {
     "name": "stdout",
     "output_type": "stream",
     "text": [
      "Sum : 27,000,001\n"
     ]
    }
   ],
   "source": [
    "s = 0\n",
    "for i in range(1, 1000001) :\n",
    "  while(i > 0) :\n",
    "    # i = 123 -> 12 -> 1 -> 0\n",
    "    # s = s + 3 + 2 + 1\n",
    "    s += i % 10\n",
    "    i = i // 10 # 나머지 몫\n",
    "print('Sum : {:,}'.format(s))"
   ]
  },
  {
   "cell_type": "code",
   "execution_count": 14,
   "metadata": {},
   "outputs": [
    {
     "name": "stdout",
     "output_type": "stream",
     "text": [
      "Sum : 27,000,001\n"
     ]
    }
   ],
   "source": [
    "s = 0\n",
    "for i in range(1, 1000001) :\n",
    "  # 정수를 문자열로 변환\n",
    "  var = str(i)\n",
    "  for c in var :\n",
    "    #문자열에 들어있는 각 자리수를 숫자로 변환하여 더함\n",
    "    s += int(c)\n",
    "print('Sum : {:,}'.format(s))"
   ]
  },
  {
   "cell_type": "code",
   "execution_count": null,
   "metadata": {},
   "outputs": [],
   "source": [
    "val = str(12345)\n",
    "eval('+'.join(val))"
   ]
  },
  {
   "cell_type": "code",
   "execution_count": 195,
   "metadata": {},
   "outputs": [
    {
     "name": "stdout",
     "output_type": "stream",
     "text": [
      "1\n",
      "0\n",
      "0\n"
     ]
    }
   ],
   "source": [
    "for c in '100' :\n",
    "  print(c)"
   ]
  }
 ],
 "metadata": {
  "kernelspec": {
   "display_name": "base",
   "language": "python",
   "name": "python3"
  },
  "language_info": {
   "codemirror_mode": {
    "name": "ipython",
    "version": 3
   },
   "file_extension": ".py",
   "mimetype": "text/x-python",
   "name": "python",
   "nbconvert_exporter": "python",
   "pygments_lexer": "ipython3",
   "version": "3.9.13"
  },
  "orig_nbformat": 4,
  "vscode": {
   "interpreter": {
    "hash": "ad2bdc8ecc057115af97d19610ffacc2b4e99fae6737bb82f5d7fb13d2f2c186"
   }
  }
 },
 "nbformat": 4,
 "nbformat_minor": 2
}
