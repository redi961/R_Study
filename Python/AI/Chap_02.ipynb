{
 "cells": [
  {
   "cell_type": "code",
   "execution_count": 6,
   "metadata": {},
   "outputs": [
    {
     "name": "stdout",
     "output_type": "stream",
     "text": [
      "10 가 큼\n",
      "8 가 큼\n"
     ]
    }
   ],
   "source": [
    "def print_max(a,b) :\n",
    "  if a > b :\n",
    "    print(a, 'a가 큼')\n",
    "  elif a == b :\n",
    "    print(\"비교 숫자가 같음\")\n",
    "  else :\n",
    "    print(b,'가 큼')\n",
    "\n",
    "print_max(5,10)\n",
    "x=5\n",
    "y=8\n",
    "print_max(x,y)"
   ]
  },
  {
   "cell_type": "code",
   "execution_count": 8,
   "metadata": {},
   "outputs": [
    {
     "name": "stdout",
     "output_type": "stream",
     "text": [
      "None\n"
     ]
    }
   ],
   "source": [
    "def f() :\n",
    "  return\n",
    "print(f())"
   ]
  },
  {
   "cell_type": "code",
   "execution_count": 9,
   "metadata": {},
   "outputs": [
    {
     "name": "stdout",
     "output_type": "stream",
     "text": [
      "x is  50\n",
      "Change local x to 2\n",
      "x is still 50\n"
     ]
    }
   ],
   "source": [
    "x = 50\n",
    "\n",
    "def func (x) :\n",
    "  print ('x is ', x)\n",
    "  x = 2\n",
    "  print ('Change local x to', x)\n",
    "\n",
    "func(x)\n",
    "# 함수에서 변경한 x의값과 외부에서 선언한x의값은 관계가 없음\n",
    "print('x is still', x)\n"
   ]
  },
  {
   "cell_type": "code",
   "execution_count": 10,
   "metadata": {},
   "outputs": [
    {
     "name": "stdout",
     "output_type": "stream",
     "text": [
      "2: function main\n",
      "3: function trivial\n",
      "2: function main\n"
     ]
    }
   ],
   "source": [
    "def main () :\n",
    "  x = 2\n",
    "  print(str(x) + \": function main\")\n",
    "  trivial()\n",
    "  print(str(x) + \": function main\" )\n",
    "\n",
    "def trivial() :\n",
    "  x = 3\n",
    "  print(str(x) + \": function trivial\")\n",
    "\n",
    "main()"
   ]
  },
  {
   "cell_type": "code",
   "execution_count": 12,
   "metadata": {},
   "outputs": [
    {
     "name": "stdout",
     "output_type": "stream",
     "text": [
      "x is 50\n",
      "Changeed globa x to 2\n",
      "Value of x is 2\n"
     ]
    }
   ],
   "source": [
    "x = 50\n",
    "\n",
    "def main() :\n",
    "  func()\n",
    "  print('Value of x is', x)\n",
    "\n",
    "def func() :\n",
    "  global x \n",
    "\n",
    "  print('x is', x)\n",
    "  x = 2\n",
    "  print(\"Changeed globa x to\", x)\n",
    "\n",
    "main()"
   ]
  }
 ],
 "metadata": {
  "kernelspec": {
   "display_name": "base",
   "language": "python",
   "name": "python3"
  },
  "language_info": {
   "codemirror_mode": {
    "name": "ipython",
    "version": 3
   },
   "file_extension": ".py",
   "mimetype": "text/x-python",
   "name": "python",
   "nbconvert_exporter": "python",
   "pygments_lexer": "ipython3",
   "version": "3.9.13"
  },
  "orig_nbformat": 4,
  "vscode": {
   "interpreter": {
    "hash": "ad2bdc8ecc057115af97d19610ffacc2b4e99fae6737bb82f5d7fb13d2f2c186"
   }
  }
 },
 "nbformat": 4,
 "nbformat_minor": 2
}
